{
 "cells": [
  {
   "cell_type": "code",
   "execution_count": 1,
   "id": "2f658960-3060-4c99-a345-df918aea9b80",
   "metadata": {},
   "outputs": [],
   "source": [
    "import pandas as pd"
   ]
  },
  {
   "cell_type": "code",
   "execution_count": 2,
   "id": "a6d5b590-1d82-4e75-9f0b-dfb1492713e1",
   "metadata": {},
   "outputs": [],
   "source": [
    "dataset=pd.read_csv(\"insurance_pre.csv\")"
   ]
  },
  {
   "cell_type": "code",
   "execution_count": 3,
   "id": "d64a2f85-fe7a-4513-9c75-88cab51cf5a0",
   "metadata": {},
   "outputs": [
    {
     "data": {
      "text/html": [
       "<div>\n",
       "<style scoped>\n",
       "    .dataframe tbody tr th:only-of-type {\n",
       "        vertical-align: middle;\n",
       "    }\n",
       "\n",
       "    .dataframe tbody tr th {\n",
       "        vertical-align: top;\n",
       "    }\n",
       "\n",
       "    .dataframe thead th {\n",
       "        text-align: right;\n",
       "    }\n",
       "</style>\n",
       "<table border=\"1\" class=\"dataframe\">\n",
       "  <thead>\n",
       "    <tr style=\"text-align: right;\">\n",
       "      <th></th>\n",
       "      <th>age</th>\n",
       "      <th>sex</th>\n",
       "      <th>bmi</th>\n",
       "      <th>children</th>\n",
       "      <th>smoker</th>\n",
       "      <th>charges</th>\n",
       "    </tr>\n",
       "  </thead>\n",
       "  <tbody>\n",
       "    <tr>\n",
       "      <th>0</th>\n",
       "      <td>19</td>\n",
       "      <td>female</td>\n",
       "      <td>27.900</td>\n",
       "      <td>0</td>\n",
       "      <td>yes</td>\n",
       "      <td>16884.92400</td>\n",
       "    </tr>\n",
       "    <tr>\n",
       "      <th>1</th>\n",
       "      <td>18</td>\n",
       "      <td>male</td>\n",
       "      <td>33.770</td>\n",
       "      <td>1</td>\n",
       "      <td>no</td>\n",
       "      <td>1725.55230</td>\n",
       "    </tr>\n",
       "    <tr>\n",
       "      <th>2</th>\n",
       "      <td>28</td>\n",
       "      <td>male</td>\n",
       "      <td>33.000</td>\n",
       "      <td>3</td>\n",
       "      <td>no</td>\n",
       "      <td>4449.46200</td>\n",
       "    </tr>\n",
       "    <tr>\n",
       "      <th>3</th>\n",
       "      <td>33</td>\n",
       "      <td>male</td>\n",
       "      <td>22.705</td>\n",
       "      <td>0</td>\n",
       "      <td>no</td>\n",
       "      <td>21984.47061</td>\n",
       "    </tr>\n",
       "    <tr>\n",
       "      <th>4</th>\n",
       "      <td>32</td>\n",
       "      <td>male</td>\n",
       "      <td>28.880</td>\n",
       "      <td>0</td>\n",
       "      <td>no</td>\n",
       "      <td>3866.85520</td>\n",
       "    </tr>\n",
       "  </tbody>\n",
       "</table>\n",
       "</div>"
      ],
      "text/plain": [
       "   age     sex     bmi  children smoker      charges\n",
       "0   19  female  27.900         0    yes  16884.92400\n",
       "1   18    male  33.770         1     no   1725.55230\n",
       "2   28    male  33.000         3     no   4449.46200\n",
       "3   33    male  22.705         0     no  21984.47061\n",
       "4   32    male  28.880         0     no   3866.85520"
      ]
     },
     "execution_count": 3,
     "metadata": {},
     "output_type": "execute_result"
    }
   ],
   "source": [
    "dataset.head()"
   ]
  },
  {
   "cell_type": "code",
   "execution_count": 4,
   "id": "41b666c4-4dbd-4936-805a-4da6600478f3",
   "metadata": {},
   "outputs": [],
   "source": [
    "dataset=pd.get_dummies(dataset,dtype=int,drop_first=True)"
   ]
  },
  {
   "cell_type": "code",
   "execution_count": 9,
   "id": "473e1bb5-6740-4c7f-9e2b-364a4f3bbf94",
   "metadata": {},
   "outputs": [
    {
     "data": {
      "text/html": [
       "<div>\n",
       "<style scoped>\n",
       "    .dataframe tbody tr th:only-of-type {\n",
       "        vertical-align: middle;\n",
       "    }\n",
       "\n",
       "    .dataframe tbody tr th {\n",
       "        vertical-align: top;\n",
       "    }\n",
       "\n",
       "    .dataframe thead th {\n",
       "        text-align: right;\n",
       "    }\n",
       "</style>\n",
       "<table border=\"1\" class=\"dataframe\">\n",
       "  <thead>\n",
       "    <tr style=\"text-align: right;\">\n",
       "      <th></th>\n",
       "      <th>age</th>\n",
       "      <th>bmi</th>\n",
       "      <th>children</th>\n",
       "      <th>charges</th>\n",
       "      <th>sex_male</th>\n",
       "      <th>smoker_yes</th>\n",
       "    </tr>\n",
       "  </thead>\n",
       "  <tbody>\n",
       "    <tr>\n",
       "      <th>0</th>\n",
       "      <td>19</td>\n",
       "      <td>27.900</td>\n",
       "      <td>0</td>\n",
       "      <td>16884.92400</td>\n",
       "      <td>0</td>\n",
       "      <td>1</td>\n",
       "    </tr>\n",
       "    <tr>\n",
       "      <th>1</th>\n",
       "      <td>18</td>\n",
       "      <td>33.770</td>\n",
       "      <td>1</td>\n",
       "      <td>1725.55230</td>\n",
       "      <td>1</td>\n",
       "      <td>0</td>\n",
       "    </tr>\n",
       "    <tr>\n",
       "      <th>2</th>\n",
       "      <td>28</td>\n",
       "      <td>33.000</td>\n",
       "      <td>3</td>\n",
       "      <td>4449.46200</td>\n",
       "      <td>1</td>\n",
       "      <td>0</td>\n",
       "    </tr>\n",
       "    <tr>\n",
       "      <th>3</th>\n",
       "      <td>33</td>\n",
       "      <td>22.705</td>\n",
       "      <td>0</td>\n",
       "      <td>21984.47061</td>\n",
       "      <td>1</td>\n",
       "      <td>0</td>\n",
       "    </tr>\n",
       "    <tr>\n",
       "      <th>4</th>\n",
       "      <td>32</td>\n",
       "      <td>28.880</td>\n",
       "      <td>0</td>\n",
       "      <td>3866.85520</td>\n",
       "      <td>1</td>\n",
       "      <td>0</td>\n",
       "    </tr>\n",
       "  </tbody>\n",
       "</table>\n",
       "</div>"
      ],
      "text/plain": [
       "   age     bmi  children      charges  sex_male  smoker_yes\n",
       "0   19  27.900         0  16884.92400         0           1\n",
       "1   18  33.770         1   1725.55230         1           0\n",
       "2   28  33.000         3   4449.46200         1           0\n",
       "3   33  22.705         0  21984.47061         1           0\n",
       "4   32  28.880         0   3866.85520         1           0"
      ]
     },
     "execution_count": 9,
     "metadata": {},
     "output_type": "execute_result"
    }
   ],
   "source": [
    "dataset.head()"
   ]
  },
  {
   "cell_type": "code",
   "execution_count": 11,
   "id": "c015b228-4910-4a19-b36f-dcf8baeb660c",
   "metadata": {},
   "outputs": [],
   "source": [
    "x=dataset.drop(['charges'],axis=1) # axis=0: Drop rows ; axis=1: Drop columns."
   ]
  },
  {
   "cell_type": "code",
   "execution_count": 13,
   "id": "beb3d3ab-3508-4ffb-b28e-f0e86c8297b3",
   "metadata": {},
   "outputs": [
    {
     "data": {
      "text/html": [
       "<div>\n",
       "<style scoped>\n",
       "    .dataframe tbody tr th:only-of-type {\n",
       "        vertical-align: middle;\n",
       "    }\n",
       "\n",
       "    .dataframe tbody tr th {\n",
       "        vertical-align: top;\n",
       "    }\n",
       "\n",
       "    .dataframe thead th {\n",
       "        text-align: right;\n",
       "    }\n",
       "</style>\n",
       "<table border=\"1\" class=\"dataframe\">\n",
       "  <thead>\n",
       "    <tr style=\"text-align: right;\">\n",
       "      <th></th>\n",
       "      <th>age</th>\n",
       "      <th>bmi</th>\n",
       "      <th>children</th>\n",
       "      <th>sex_male</th>\n",
       "      <th>smoker_yes</th>\n",
       "    </tr>\n",
       "  </thead>\n",
       "  <tbody>\n",
       "    <tr>\n",
       "      <th>0</th>\n",
       "      <td>19</td>\n",
       "      <td>27.900</td>\n",
       "      <td>0</td>\n",
       "      <td>0</td>\n",
       "      <td>1</td>\n",
       "    </tr>\n",
       "    <tr>\n",
       "      <th>1</th>\n",
       "      <td>18</td>\n",
       "      <td>33.770</td>\n",
       "      <td>1</td>\n",
       "      <td>1</td>\n",
       "      <td>0</td>\n",
       "    </tr>\n",
       "    <tr>\n",
       "      <th>2</th>\n",
       "      <td>28</td>\n",
       "      <td>33.000</td>\n",
       "      <td>3</td>\n",
       "      <td>1</td>\n",
       "      <td>0</td>\n",
       "    </tr>\n",
       "    <tr>\n",
       "      <th>3</th>\n",
       "      <td>33</td>\n",
       "      <td>22.705</td>\n",
       "      <td>0</td>\n",
       "      <td>1</td>\n",
       "      <td>0</td>\n",
       "    </tr>\n",
       "    <tr>\n",
       "      <th>4</th>\n",
       "      <td>32</td>\n",
       "      <td>28.880</td>\n",
       "      <td>0</td>\n",
       "      <td>1</td>\n",
       "      <td>0</td>\n",
       "    </tr>\n",
       "  </tbody>\n",
       "</table>\n",
       "</div>"
      ],
      "text/plain": [
       "   age     bmi  children  sex_male  smoker_yes\n",
       "0   19  27.900         0         0           1\n",
       "1   18  33.770         1         1           0\n",
       "2   28  33.000         3         1           0\n",
       "3   33  22.705         0         1           0\n",
       "4   32  28.880         0         1           0"
      ]
     },
     "execution_count": 13,
     "metadata": {},
     "output_type": "execute_result"
    }
   ],
   "source": [
    "x.head()"
   ]
  },
  {
   "cell_type": "code",
   "execution_count": 15,
   "id": "7d8ab4dd-0836-4fba-a1b9-25e9ad261a59",
   "metadata": {},
   "outputs": [],
   "source": [
    "y=dataset['charges']"
   ]
  },
  {
   "cell_type": "code",
   "execution_count": 17,
   "id": "f7404b35-09e4-4464-9311-22ee375cd658",
   "metadata": {},
   "outputs": [
    {
     "data": {
      "text/plain": [
       "0    16884.92400\n",
       "1     1725.55230\n",
       "2     4449.46200\n",
       "3    21984.47061\n",
       "4     3866.85520\n",
       "Name: charges, dtype: float64"
      ]
     },
     "execution_count": 17,
     "metadata": {},
     "output_type": "execute_result"
    }
   ],
   "source": [
    "y.head()"
   ]
  },
  {
   "cell_type": "code",
   "execution_count": 19,
   "id": "8cdc6e83-2007-414e-be68-0acfb6bd0add",
   "metadata": {},
   "outputs": [],
   "source": [
    "from sklearn.model_selection import train_test_split"
   ]
  },
  {
   "cell_type": "code",
   "execution_count": 20,
   "id": "674a6f11-c9f8-4d03-9a66-fac830cf16f9",
   "metadata": {},
   "outputs": [],
   "source": [
    "x_train,x_test,y_train,y_test=train_test_split(x,y,test_size=0.3,random_state=0)"
   ]
  },
  {
   "cell_type": "code",
   "execution_count": 25,
   "id": "ae4fbe32-bf6a-4bdb-8f86-c2732a6bbe1c",
   "metadata": {},
   "outputs": [
    {
     "name": "stdout",
     "output_type": "stream",
     "text": [
      "Collecting xgboost\n",
      "  Downloading xgboost-2.1.4-py3-none-win_amd64.whl.metadata (2.1 kB)\n",
      "Requirement already satisfied: numpy in c:\\anaconda3\\lib\\site-packages (from xgboost) (1.26.4)\n",
      "Requirement already satisfied: scipy in c:\\anaconda3\\lib\\site-packages (from xgboost) (1.13.1)\n",
      "Downloading xgboost-2.1.4-py3-none-win_amd64.whl (124.9 MB)\n",
      "   ---------------------------------------- 0.0/124.9 MB ? eta -:--:--\n",
      "   ---------------------------------------- 0.8/124.9 MB 6.7 MB/s eta 0:00:19\n",
      "    --------------------------------------- 1.8/124.9 MB 4.6 MB/s eta 0:00:27\n",
      "    --------------------------------------- 2.6/124.9 MB 4.2 MB/s eta 0:00:30\n",
      "   - -------------------------------------- 3.4/124.9 MB 4.1 MB/s eta 0:00:30\n",
      "   - -------------------------------------- 4.2/124.9 MB 4.1 MB/s eta 0:00:30\n",
      "   - -------------------------------------- 5.0/124.9 MB 4.0 MB/s eta 0:00:30\n",
      "   - -------------------------------------- 5.8/124.9 MB 4.0 MB/s eta 0:00:30\n",
      "   -- ------------------------------------- 6.6/124.9 MB 4.0 MB/s eta 0:00:30\n",
      "   -- ------------------------------------- 7.6/124.9 MB 3.9 MB/s eta 0:00:30\n",
      "   -- ------------------------------------- 8.4/124.9 MB 4.0 MB/s eta 0:00:30\n",
      "   -- ------------------------------------- 9.2/124.9 MB 4.0 MB/s eta 0:00:30\n",
      "   --- ------------------------------------ 10.0/124.9 MB 4.0 MB/s eta 0:00:30\n",
      "   --- ------------------------------------ 10.7/124.9 MB 3.9 MB/s eta 0:00:29\n",
      "   --- ------------------------------------ 11.5/124.9 MB 3.9 MB/s eta 0:00:29\n",
      "   --- ------------------------------------ 12.3/124.9 MB 3.9 MB/s eta 0:00:29\n",
      "   ---- ----------------------------------- 13.1/124.9 MB 3.9 MB/s eta 0:00:29\n",
      "   ---- ----------------------------------- 13.9/124.9 MB 3.9 MB/s eta 0:00:29\n",
      "   ---- ----------------------------------- 14.7/124.9 MB 3.9 MB/s eta 0:00:29\n",
      "   ---- ----------------------------------- 15.5/124.9 MB 3.9 MB/s eta 0:00:29\n",
      "   ----- ---------------------------------- 16.0/124.9 MB 3.9 MB/s eta 0:00:29\n",
      "   ----- ---------------------------------- 16.5/124.9 MB 3.8 MB/s eta 0:00:29\n",
      "   ----- ---------------------------------- 17.3/124.9 MB 3.8 MB/s eta 0:00:29\n",
      "   ----- ---------------------------------- 17.8/124.9 MB 3.7 MB/s eta 0:00:29\n",
      "   ----- ---------------------------------- 18.6/124.9 MB 3.8 MB/s eta 0:00:29\n",
      "   ------ --------------------------------- 19.4/124.9 MB 3.7 MB/s eta 0:00:29\n",
      "   ------ --------------------------------- 20.4/124.9 MB 3.8 MB/s eta 0:00:28\n",
      "   ------ --------------------------------- 21.2/124.9 MB 3.8 MB/s eta 0:00:28\n",
      "   ------- -------------------------------- 22.0/124.9 MB 3.8 MB/s eta 0:00:28\n",
      "   ------- -------------------------------- 22.8/124.9 MB 3.8 MB/s eta 0:00:28\n",
      "   ------- -------------------------------- 23.6/124.9 MB 3.8 MB/s eta 0:00:27\n",
      "   ------- -------------------------------- 24.4/124.9 MB 3.8 MB/s eta 0:00:27\n",
      "   -------- ------------------------------- 25.2/124.9 MB 3.8 MB/s eta 0:00:27\n",
      "   -------- ------------------------------- 26.0/124.9 MB 3.8 MB/s eta 0:00:27\n",
      "   -------- ------------------------------- 26.7/124.9 MB 3.8 MB/s eta 0:00:26\n",
      "   -------- ------------------------------- 27.8/124.9 MB 3.8 MB/s eta 0:00:26\n",
      "   --------- ------------------------------ 28.6/124.9 MB 3.8 MB/s eta 0:00:26\n",
      "   --------- ------------------------------ 29.4/124.9 MB 3.8 MB/s eta 0:00:26\n",
      "   --------- ------------------------------ 30.1/124.9 MB 3.8 MB/s eta 0:00:25\n",
      "   --------- ------------------------------ 30.7/124.9 MB 3.8 MB/s eta 0:00:25\n",
      "   ---------- ----------------------------- 31.5/124.9 MB 3.8 MB/s eta 0:00:25\n",
      "   ---------- ----------------------------- 32.2/124.9 MB 3.8 MB/s eta 0:00:25\n",
      "   ---------- ----------------------------- 32.8/124.9 MB 3.8 MB/s eta 0:00:25\n",
      "   ---------- ----------------------------- 33.6/124.9 MB 3.7 MB/s eta 0:00:25\n",
      "   ---------- ----------------------------- 34.3/124.9 MB 3.7 MB/s eta 0:00:25\n",
      "   ----------- ---------------------------- 34.9/124.9 MB 3.7 MB/s eta 0:00:25\n",
      "   ----------- ---------------------------- 35.7/124.9 MB 3.7 MB/s eta 0:00:24\n",
      "   ----------- ---------------------------- 36.7/124.9 MB 3.7 MB/s eta 0:00:24\n",
      "   ------------ --------------------------- 37.5/124.9 MB 3.7 MB/s eta 0:00:24\n",
      "   ------------ --------------------------- 38.3/124.9 MB 3.7 MB/s eta 0:00:24\n",
      "   ------------ --------------------------- 39.1/124.9 MB 3.7 MB/s eta 0:00:23\n",
      "   ------------ --------------------------- 39.8/124.9 MB 3.7 MB/s eta 0:00:23\n",
      "   ------------- -------------------------- 40.6/124.9 MB 3.7 MB/s eta 0:00:23\n",
      "   ------------- -------------------------- 41.4/124.9 MB 3.8 MB/s eta 0:00:23\n",
      "   ------------- -------------------------- 42.2/124.9 MB 3.8 MB/s eta 0:00:23\n",
      "   ------------- -------------------------- 43.0/124.9 MB 3.8 MB/s eta 0:00:22\n",
      "   -------------- ------------------------- 43.8/124.9 MB 3.8 MB/s eta 0:00:22\n",
      "   -------------- ------------------------- 44.8/124.9 MB 3.8 MB/s eta 0:00:22\n",
      "   -------------- ------------------------- 45.6/124.9 MB 3.8 MB/s eta 0:00:22\n",
      "   -------------- ------------------------- 46.4/124.9 MB 3.8 MB/s eta 0:00:21\n",
      "   --------------- ------------------------ 47.2/124.9 MB 3.8 MB/s eta 0:00:21\n",
      "   --------------- ------------------------ 47.7/124.9 MB 3.8 MB/s eta 0:00:21\n",
      "   --------------- ------------------------ 48.5/124.9 MB 3.8 MB/s eta 0:00:21\n",
      "   --------------- ------------------------ 49.3/124.9 MB 3.8 MB/s eta 0:00:21\n",
      "   ---------------- ----------------------- 50.1/124.9 MB 3.7 MB/s eta 0:00:20\n",
      "   ---------------- ----------------------- 50.9/124.9 MB 3.8 MB/s eta 0:00:20\n",
      "   ---------------- ----------------------- 51.6/124.9 MB 3.8 MB/s eta 0:00:20\n",
      "   ---------------- ----------------------- 52.4/124.9 MB 3.8 MB/s eta 0:00:20\n",
      "   ----------------- ---------------------- 53.2/124.9 MB 3.8 MB/s eta 0:00:20\n",
      "   ----------------- ---------------------- 54.0/124.9 MB 3.8 MB/s eta 0:00:19\n",
      "   ----------------- ---------------------- 54.8/124.9 MB 3.8 MB/s eta 0:00:19\n",
      "   ----------------- ---------------------- 55.6/124.9 MB 3.8 MB/s eta 0:00:19\n",
      "   ------------------ --------------------- 56.4/124.9 MB 3.8 MB/s eta 0:00:19\n",
      "   ------------------ --------------------- 57.1/124.9 MB 3.7 MB/s eta 0:00:19\n",
      "   ------------------ --------------------- 57.9/124.9 MB 3.8 MB/s eta 0:00:18\n",
      "   ------------------ --------------------- 58.7/124.9 MB 3.7 MB/s eta 0:00:18\n",
      "   ------------------- -------------------- 59.5/124.9 MB 3.8 MB/s eta 0:00:18\n",
      "   ------------------- -------------------- 60.3/124.9 MB 3.8 MB/s eta 0:00:18\n",
      "   ------------------- -------------------- 61.1/124.9 MB 3.8 MB/s eta 0:00:18\n",
      "   ------------------- -------------------- 61.9/124.9 MB 3.8 MB/s eta 0:00:17\n",
      "   -------------------- ------------------- 62.7/124.9 MB 3.8 MB/s eta 0:00:17\n",
      "   -------------------- ------------------- 63.4/124.9 MB 3.8 MB/s eta 0:00:17\n",
      "   -------------------- ------------------- 64.2/124.9 MB 3.8 MB/s eta 0:00:17\n",
      "   -------------------- ------------------- 65.0/124.9 MB 3.8 MB/s eta 0:00:16\n",
      "   --------------------- ------------------ 66.1/124.9 MB 3.8 MB/s eta 0:00:16\n",
      "   --------------------- ------------------ 66.8/124.9 MB 3.8 MB/s eta 0:00:16\n",
      "   --------------------- ------------------ 67.6/124.9 MB 3.8 MB/s eta 0:00:16\n",
      "   --------------------- ------------------ 68.4/124.9 MB 3.8 MB/s eta 0:00:15\n",
      "   ---------------------- ----------------- 69.2/124.9 MB 3.8 MB/s eta 0:00:15\n",
      "   ---------------------- ----------------- 70.0/124.9 MB 3.8 MB/s eta 0:00:15\n",
      "   ---------------------- ----------------- 70.8/124.9 MB 3.8 MB/s eta 0:00:15\n",
      "   ---------------------- ----------------- 71.6/124.9 MB 3.8 MB/s eta 0:00:15\n",
      "   ----------------------- ---------------- 72.4/124.9 MB 3.8 MB/s eta 0:00:14\n",
      "   ----------------------- ---------------- 73.1/124.9 MB 3.8 MB/s eta 0:00:14\n",
      "   ----------------------- ---------------- 73.9/124.9 MB 3.8 MB/s eta 0:00:14\n",
      "   ----------------------- ---------------- 74.7/124.9 MB 3.8 MB/s eta 0:00:14\n",
      "   ------------------------ --------------- 75.2/124.9 MB 3.8 MB/s eta 0:00:14\n",
      "   ------------------------ --------------- 76.0/124.9 MB 3.8 MB/s eta 0:00:13\n",
      "   ------------------------ --------------- 76.8/124.9 MB 3.8 MB/s eta 0:00:13\n",
      "   ------------------------ --------------- 77.6/124.9 MB 3.8 MB/s eta 0:00:13\n",
      "   ------------------------- -------------- 78.4/124.9 MB 3.8 MB/s eta 0:00:13\n",
      "   ------------------------- -------------- 78.9/124.9 MB 3.8 MB/s eta 0:00:13\n",
      "   ------------------------- -------------- 79.7/124.9 MB 3.8 MB/s eta 0:00:13\n",
      "   ------------------------- -------------- 80.5/124.9 MB 3.8 MB/s eta 0:00:12\n",
      "   -------------------------- ------------- 81.3/124.9 MB 3.8 MB/s eta 0:00:12\n",
      "   -------------------------- ------------- 82.1/124.9 MB 3.7 MB/s eta 0:00:12\n",
      "   -------------------------- ------------- 82.6/124.9 MB 3.7 MB/s eta 0:00:12\n",
      "   -------------------------- ------------- 83.4/124.9 MB 3.7 MB/s eta 0:00:12\n",
      "   -------------------------- ------------- 84.1/124.9 MB 3.7 MB/s eta 0:00:11\n",
      "   --------------------------- ------------ 84.9/124.9 MB 3.7 MB/s eta 0:00:11\n",
      "   --------------------------- ------------ 85.2/124.9 MB 3.7 MB/s eta 0:00:11\n",
      "   --------------------------- ------------ 85.7/124.9 MB 3.7 MB/s eta 0:00:11\n",
      "   --------------------------- ------------ 86.2/124.9 MB 3.7 MB/s eta 0:00:11\n",
      "   --------------------------- ------------ 87.0/124.9 MB 3.7 MB/s eta 0:00:11\n",
      "   ---------------------------- ----------- 87.6/124.9 MB 3.7 MB/s eta 0:00:11\n",
      "   ---------------------------- ----------- 88.3/124.9 MB 3.7 MB/s eta 0:00:10\n",
      "   ---------------------------- ----------- 89.1/124.9 MB 3.7 MB/s eta 0:00:10\n",
      "   ---------------------------- ----------- 89.7/124.9 MB 3.7 MB/s eta 0:00:10\n",
      "   ---------------------------- ----------- 90.4/124.9 MB 3.7 MB/s eta 0:00:10\n",
      "   ----------------------------- ---------- 91.2/124.9 MB 3.7 MB/s eta 0:00:10\n",
      "   ----------------------------- ---------- 92.0/124.9 MB 3.7 MB/s eta 0:00:09\n",
      "   ----------------------------- ---------- 92.8/124.9 MB 3.7 MB/s eta 0:00:09\n",
      "   ----------------------------- ---------- 93.6/124.9 MB 3.7 MB/s eta 0:00:09\n",
      "   ------------------------------ --------- 94.4/124.9 MB 3.7 MB/s eta 0:00:09\n",
      "   ------------------------------ --------- 95.2/124.9 MB 3.7 MB/s eta 0:00:09\n",
      "   ------------------------------ --------- 95.9/124.9 MB 3.7 MB/s eta 0:00:08\n",
      "   ------------------------------ --------- 96.7/124.9 MB 3.7 MB/s eta 0:00:08\n",
      "   ------------------------------- -------- 97.5/124.9 MB 3.7 MB/s eta 0:00:08\n",
      "   ------------------------------- -------- 98.3/124.9 MB 3.7 MB/s eta 0:00:08\n",
      "   ------------------------------- -------- 99.1/124.9 MB 3.7 MB/s eta 0:00:08\n",
      "   ------------------------------- -------- 99.6/124.9 MB 3.7 MB/s eta 0:00:07\n",
      "   -------------------------------- ------- 100.4/124.9 MB 3.7 MB/s eta 0:00:07\n",
      "   -------------------------------- ------- 100.9/124.9 MB 3.7 MB/s eta 0:00:07\n",
      "   -------------------------------- ------- 101.7/124.9 MB 3.7 MB/s eta 0:00:07\n",
      "   -------------------------------- ------- 102.2/124.9 MB 3.7 MB/s eta 0:00:07\n",
      "   -------------------------------- ------- 102.8/124.9 MB 3.7 MB/s eta 0:00:07\n",
      "   --------------------------------- ------ 103.5/124.9 MB 3.7 MB/s eta 0:00:06\n",
      "   --------------------------------- ------ 104.1/124.9 MB 3.7 MB/s eta 0:00:06\n",
      "   --------------------------------- ------ 104.6/124.9 MB 3.6 MB/s eta 0:00:06\n",
      "   --------------------------------- ------ 105.4/124.9 MB 3.6 MB/s eta 0:00:06\n",
      "   --------------------------------- ------ 105.9/124.9 MB 3.6 MB/s eta 0:00:06\n",
      "   ---------------------------------- ----- 106.7/124.9 MB 3.6 MB/s eta 0:00:06\n",
      "   ---------------------------------- ----- 107.2/124.9 MB 3.6 MB/s eta 0:00:05\n",
      "   ---------------------------------- ----- 108.0/124.9 MB 3.6 MB/s eta 0:00:05\n",
      "   ---------------------------------- ----- 108.8/124.9 MB 3.6 MB/s eta 0:00:05\n",
      "   ----------------------------------- ---- 109.6/124.9 MB 3.6 MB/s eta 0:00:05\n",
      "   ----------------------------------- ---- 110.4/124.9 MB 3.6 MB/s eta 0:00:05\n",
      "   ----------------------------------- ---- 111.1/124.9 MB 3.6 MB/s eta 0:00:04\n",
      "   ----------------------------------- ---- 111.9/124.9 MB 3.6 MB/s eta 0:00:04\n",
      "   ------------------------------------ --- 113.0/124.9 MB 3.6 MB/s eta 0:00:04\n",
      "   ------------------------------------ --- 113.5/124.9 MB 3.6 MB/s eta 0:00:04\n",
      "   ------------------------------------ --- 114.3/124.9 MB 3.6 MB/s eta 0:00:03\n",
      "   ------------------------------------ --- 114.8/124.9 MB 3.6 MB/s eta 0:00:03\n",
      "   ------------------------------------ --- 115.3/124.9 MB 3.6 MB/s eta 0:00:03\n",
      "   ------------------------------------- -- 116.1/124.9 MB 3.6 MB/s eta 0:00:03\n",
      "   ------------------------------------- -- 116.9/124.9 MB 3.6 MB/s eta 0:00:03\n",
      "   ------------------------------------- -- 117.7/124.9 MB 3.6 MB/s eta 0:00:03\n",
      "   ------------------------------------- -- 118.5/124.9 MB 3.6 MB/s eta 0:00:02\n",
      "   -------------------------------------- - 119.3/124.9 MB 3.6 MB/s eta 0:00:02\n",
      "   -------------------------------------- - 120.1/124.9 MB 3.6 MB/s eta 0:00:02\n",
      "   -------------------------------------- - 120.8/124.9 MB 3.6 MB/s eta 0:00:02\n",
      "   -------------------------------------- - 121.6/124.9 MB 3.6 MB/s eta 0:00:01\n",
      "   ---------------------------------------  122.7/124.9 MB 3.6 MB/s eta 0:00:01\n",
      "   ---------------------------------------  123.5/124.9 MB 3.6 MB/s eta 0:00:01\n",
      "   ---------------------------------------  124.3/124.9 MB 3.6 MB/s eta 0:00:01\n",
      "   ---------------------------------------  124.8/124.9 MB 3.6 MB/s eta 0:00:01\n",
      "   ---------------------------------------  124.8/124.9 MB 3.6 MB/s eta 0:00:01\n",
      "   ---------------------------------------- 124.9/124.9 MB 3.6 MB/s eta 0:00:00\n",
      "Installing collected packages: xgboost\n",
      "Successfully installed xgboost-2.1.4\n",
      "Note: you may need to restart the kernel to use updated packages.\n"
     ]
    }
   ],
   "source": [
    "pip install xgboost"
   ]
  },
  {
   "cell_type": "code",
   "execution_count": 27,
   "id": "73f53278-bb70-4948-886c-f46804fa40db",
   "metadata": {},
   "outputs": [],
   "source": [
    "import xgboost as xgb"
   ]
  },
  {
   "cell_type": "code",
   "execution_count": null,
   "id": "101c9db0-959d-4474-b25e-522fa5643b08",
   "metadata": {},
   "outputs": [],
   "source": [
    "regressor=GradientBoostingRegressor(\n",
    "    n_estimators=100,\n",
    "    learning_rate=0.1,\n",
    "    max_depth=3,            # Limits the maximum depth of the individual trees\n",
    "    min_samples_split=2,    # Minimum number of samples required to split an internal node\n",
    "    min_samples_leaf=1,     # Minimum number of samples required to be at a leaf node\n",
    "    max_features=None,      # Number of features to consider when looking for the best split\n",
    "    random_state=42\n",
    ")"
   ]
  },
  {
   "cell_type": "code",
   "execution_count": 29,
   "id": "a4f74dd7-d719-490a-a59f-d795c55559f0",
   "metadata": {},
   "outputs": [],
   "source": [
    "dtrain = xgb.DMatrix(x_train, label=y_train)\n",
    "dtest = xgb.DMatrix(x_test, label=y_test)"
   ]
  },
  {
   "cell_type": "code",
   "execution_count": 31,
   "id": "1be85a65-d881-44dd-803f-889aa1c7b5c0",
   "metadata": {},
   "outputs": [],
   "source": [
    "params = {\n",
    "    'objective': 'reg:squarederror',  # For regression tasks\n",
    "    'eval_metric': 'rmse',            # Root Mean Square Error as evaluation metric\n",
    "    'learning_rate': 0.1,             # Controls the step size\n",
    "    'max_depth': 6,                   # Depth of each tree\n",
    "    'subsample': 0.8,                 # Row sampling\n",
    "    'colsample_bytree': 0.8,          # Feature sampling\n",
    "    'seed': 42                        # For reproducibility\n",
    "}"
   ]
  },
  {
   "cell_type": "code",
   "execution_count": 33,
   "id": "85d92ebd-bc0b-429d-aaae-cd36df544a5a",
   "metadata": {},
   "outputs": [],
   "source": [
    "eval_set = [(dtrain, 'train'), (dtest, 'eval')] #Create an evaluation set to monitor performance during training"
   ]
  },
  {
   "cell_type": "code",
   "execution_count": 35,
   "id": "ae3ad679-e9f9-45d7-b18a-c134284fd404",
   "metadata": {},
   "outputs": [
    {
     "name": "stdout",
     "output_type": "stream",
     "text": [
      "[0]\ttrain-rmse:11616.24461\teval-rmse:12447.59750\n",
      "[10]\ttrain-rmse:6245.35110\teval-rmse:6768.84153\n",
      "[20]\ttrain-rmse:4262.28360\teval-rmse:4902.19671\n",
      "[30]\ttrain-rmse:3595.04796\teval-rmse:4547.06453\n",
      "[40]\ttrain-rmse:3245.21213\teval-rmse:4543.12300\n",
      "[50]\ttrain-rmse:3015.53004\teval-rmse:4592.95776\n",
      "[60]\ttrain-rmse:2819.72018\teval-rmse:4666.16121\n",
      "[70]\ttrain-rmse:2655.49971\teval-rmse:4717.91473\n",
      "[80]\ttrain-rmse:2501.70168\teval-rmse:4778.48339\n",
      "[81]\ttrain-rmse:2492.01784\teval-rmse:4787.60079\n"
     ]
    }
   ],
   "source": [
    "model = xgb.train(\n",
    "    params,\n",
    "    dtrain,\n",
    "    num_boost_round=500,\n",
    "    evals=eval_set,\n",
    "    early_stopping_rounds=50,\n",
    "    verbose_eval=10\n",
    ")"
   ]
  },
  {
   "cell_type": "code",
   "execution_count": 37,
   "id": "c912bfe5-a326-404d-83a8-4d44dfdba51b",
   "metadata": {},
   "outputs": [],
   "source": [
    "y_pred = model.predict(dtest)"
   ]
  },
  {
   "cell_type": "code",
   "execution_count": 45,
   "id": "0136283b-50f2-4a5f-a56b-f0e2ec351e39",
   "metadata": {},
   "outputs": [
    {
     "name": "stdout",
     "output_type": "stream",
     "text": [
      "RMSE: 4784.621204257012\n",
      "MAE: 2877.6012835551155\n",
      "R2 Score: 0.8564452445332242\n"
     ]
    }
   ],
   "source": [
    "from sklearn.metrics import mean_squared_error, mean_absolute_error, r2_score\n",
    "import numpy as np\n",
    "\n",
    "rmse = np.sqrt(mean_squared_error(y_test, y_pred))\n",
    "mae = mean_absolute_error(y_test, y_pred)\n",
    "r2 = r2_score(y_test, y_pred)\n",
    "\n",
    "print(f'RMSE: {rmse}')\n",
    "print(f'MAE: {mae}')\n",
    "print(f'R2 Score: {r2}')"
   ]
  },
  {
   "cell_type": "code",
   "execution_count": 51,
   "id": "2dc24bad-f56c-4c51-af3e-3ebe935c79e9",
   "metadata": {},
   "outputs": [
    {
     "data": {
      "image/png": "[encoded data removed]",
      "text/plain": [
       "<Figure size 640x480 with 1 Axes>"
      ]
     },
     "metadata": {},
     "output_type": "display_data"
    }
   ],
   "source": [
    "import matplotlib.pyplot as plt\n",
    "\n",
    "plt.scatter(y_test, y_pred, alpha=0.3)\n",
    "plt.xlabel('Actual Charges')\n",
    "plt.ylabel('Predicted Charges')\n",
    "plt.title('Actual vs. Predicted Charges')\n",
    "plt.show()"
   ]
  },
  {
   "cell_type": "code",
   "execution_count": 55,
   "id": "be75b0a5-7acb-47d0-9309-21bff3a3cecc",
   "metadata": {},
   "outputs": [
    {
     "data": {
      "image/png": "[encoded data removed]",
      "text/plain": [
       "<Figure size 640x480 with 1 Axes>"
      ]
     },
     "metadata": {},
     "output_type": "display_data"
    }
   ],
   "source": [
    "xgb.plot_importance(model, max_num_features=10)\n",
    "plt.show()"
   ]
  },
  {
   "cell_type": "code",
   "execution_count": 61,
   "id": "5c17841c-eb02-4f48-ad16-d08d6756afff",
   "metadata": {},
   "outputs": [
    {
     "name": "stdout",
     "output_type": "stream",
     "text": [
      "      Feature    Importance\n",
      "4  smoker_yes  2.564966e+09\n",
      "1         bmi  9.016557e+07\n",
      "0         age  6.953848e+07\n",
      "2    children  2.780356e+07\n",
      "3    sex_male  2.540904e+07\n"
     ]
    }
   ],
   "source": [
    "importance = model.get_score(importance_type='gain')\n",
    "importance_df = pd.DataFrame({\n",
    "    'Feature': importance.keys(),\n",
    "    'Importance': importance.values()\n",
    "}).sort_values(by='Importance', ascending=False)\n",
    "\n",
    "print(importance_df)"
   ]
  },
  {
   "cell_type": "code",
   "execution_count": null,
   "id": "68096d4b-3f44-4ffb-b8e9-f163c0379831",
   "metadata": {},
   "outputs": [],
   "source": []
  }
 ],
 "metadata": {
  "kernelspec": {
   "display_name": "Python 3 (ipykernel)",
   "language": "python",
   "name": "python3"
  },
  "language_info": {
   "codemirror_mode": {
    "name": "ipython",
    "version": 3
   },
   "file_extension": ".py",
   "mimetype": "text/x-python",
   "name": "python",
   "nbconvert_exporter": "python",
   "pygments_lexer": "ipython3",
   "version": "3.12.7"
  }
 },
 "nbformat": 4,
 "nbformat_minor": 5
}
