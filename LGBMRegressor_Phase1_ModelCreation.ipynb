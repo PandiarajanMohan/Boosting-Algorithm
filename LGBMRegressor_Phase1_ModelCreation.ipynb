{
 "cells": [
  {
   "cell_type": "code",
   "execution_count": 1,
   "id": "2f658960-3060-4c99-a345-df918aea9b80",
   "metadata": {},
   "outputs": [],
   "source": [
    "import pandas as pd"
   ]
  },
  {
   "cell_type": "code",
   "execution_count": 2,
   "id": "a6d5b590-1d82-4e75-9f0b-dfb1492713e1",
   "metadata": {},
   "outputs": [],
   "source": [
    "dataset=pd.read_csv(\"insurance_pre.csv\")"
   ]
  },
  {
   "cell_type": "code",
   "execution_count": 53,
   "id": "d64a2f85-fe7a-4513-9c75-88cab51cf5a0",
   "metadata": {},
   "outputs": [
    {
     "name": "stdout",
     "output_type": "stream",
     "text": [
      "   age     bmi  children      charges  sex_male  smoker_yes\n",
      "0   19  27.900         0  16884.92400         0           1\n",
      "1   18  33.770         1   1725.55230         1           0\n",
      "2   28  33.000         3   4449.46200         1           0\n",
      "3   33  22.705         0  21984.47061         1           0\n",
      "4   32  28.880         0   3866.85520         1           0\n"
     ]
    }
   ],
   "source": [
    "print(dataset.head())"
   ]
  },
  {
   "cell_type": "code",
   "execution_count": 4,
   "id": "41b666c4-4dbd-4936-805a-4da6600478f3",
   "metadata": {},
   "outputs": [],
   "source": [
    "dataset=pd.get_dummies(dataset,dtype=int,drop_first=True)"
   ]
  },
  {
   "cell_type": "code",
   "execution_count": 5,
   "id": "473e1bb5-6740-4c7f-9e2b-364a4f3bbf94",
   "metadata": {},
   "outputs": [
    {
     "data": {
      "text/html": [
       "<div>\n",
       "<style scoped>\n",
       "    .dataframe tbody tr th:only-of-type {\n",
       "        vertical-align: middle;\n",
       "    }\n",
       "\n",
       "    .dataframe tbody tr th {\n",
       "        vertical-align: top;\n",
       "    }\n",
       "\n",
       "    .dataframe thead th {\n",
       "        text-align: right;\n",
       "    }\n",
       "</style>\n",
       "<table border=\"1\" class=\"dataframe\">\n",
       "  <thead>\n",
       "    <tr style=\"text-align: right;\">\n",
       "      <th></th>\n",
       "      <th>age</th>\n",
       "      <th>bmi</th>\n",
       "      <th>children</th>\n",
       "      <th>charges</th>\n",
       "      <th>sex_male</th>\n",
       "      <th>smoker_yes</th>\n",
       "    </tr>\n",
       "  </thead>\n",
       "  <tbody>\n",
       "    <tr>\n",
       "      <th>0</th>\n",
       "      <td>19</td>\n",
       "      <td>27.900</td>\n",
       "      <td>0</td>\n",
       "      <td>16884.92400</td>\n",
       "      <td>0</td>\n",
       "      <td>1</td>\n",
       "    </tr>\n",
       "    <tr>\n",
       "      <th>1</th>\n",
       "      <td>18</td>\n",
       "      <td>33.770</td>\n",
       "      <td>1</td>\n",
       "      <td>1725.55230</td>\n",
       "      <td>1</td>\n",
       "      <td>0</td>\n",
       "    </tr>\n",
       "    <tr>\n",
       "      <th>2</th>\n",
       "      <td>28</td>\n",
       "      <td>33.000</td>\n",
       "      <td>3</td>\n",
       "      <td>4449.46200</td>\n",
       "      <td>1</td>\n",
       "      <td>0</td>\n",
       "    </tr>\n",
       "    <tr>\n",
       "      <th>3</th>\n",
       "      <td>33</td>\n",
       "      <td>22.705</td>\n",
       "      <td>0</td>\n",
       "      <td>21984.47061</td>\n",
       "      <td>1</td>\n",
       "      <td>0</td>\n",
       "    </tr>\n",
       "    <tr>\n",
       "      <th>4</th>\n",
       "      <td>32</td>\n",
       "      <td>28.880</td>\n",
       "      <td>0</td>\n",
       "      <td>3866.85520</td>\n",
       "      <td>1</td>\n",
       "      <td>0</td>\n",
       "    </tr>\n",
       "  </tbody>\n",
       "</table>\n",
       "</div>"
      ],
      "text/plain": [
       "   age     bmi  children      charges  sex_male  smoker_yes\n",
       "0   19  27.900         0  16884.92400         0           1\n",
       "1   18  33.770         1   1725.55230         1           0\n",
       "2   28  33.000         3   4449.46200         1           0\n",
       "3   33  22.705         0  21984.47061         1           0\n",
       "4   32  28.880         0   3866.85520         1           0"
      ]
     },
     "execution_count": 5,
     "metadata": {},
     "output_type": "execute_result"
    }
   ],
   "source": [
    "dataset.head()"
   ]
  },
  {
   "cell_type": "code",
   "execution_count": 6,
   "id": "c015b228-4910-4a19-b36f-dcf8baeb660c",
   "metadata": {},
   "outputs": [],
   "source": [
    "x=dataset.drop(['charges'],axis=1) # axis=0: Drop rows ; axis=1: Drop columns."
   ]
  },
  {
   "cell_type": "code",
   "execution_count": 7,
   "id": "beb3d3ab-3508-4ffb-b28e-f0e86c8297b3",
   "metadata": {},
   "outputs": [
    {
     "data": {
      "text/html": [
       "<div>\n",
       "<style scoped>\n",
       "    .dataframe tbody tr th:only-of-type {\n",
       "        vertical-align: middle;\n",
       "    }\n",
       "\n",
       "    .dataframe tbody tr th {\n",
       "        vertical-align: top;\n",
       "    }\n",
       "\n",
       "    .dataframe thead th {\n",
       "        text-align: right;\n",
       "    }\n",
       "</style>\n",
       "<table border=\"1\" class=\"dataframe\">\n",
       "  <thead>\n",
       "    <tr style=\"text-align: right;\">\n",
       "      <th></th>\n",
       "      <th>age</th>\n",
       "      <th>bmi</th>\n",
       "      <th>children</th>\n",
       "      <th>sex_male</th>\n",
       "      <th>smoker_yes</th>\n",
       "    </tr>\n",
       "  </thead>\n",
       "  <tbody>\n",
       "    <tr>\n",
       "      <th>0</th>\n",
       "      <td>19</td>\n",
       "      <td>27.900</td>\n",
       "      <td>0</td>\n",
       "      <td>0</td>\n",
       "      <td>1</td>\n",
       "    </tr>\n",
       "    <tr>\n",
       "      <th>1</th>\n",
       "      <td>18</td>\n",
       "      <td>33.770</td>\n",
       "      <td>1</td>\n",
       "      <td>1</td>\n",
       "      <td>0</td>\n",
       "    </tr>\n",
       "    <tr>\n",
       "      <th>2</th>\n",
       "      <td>28</td>\n",
       "      <td>33.000</td>\n",
       "      <td>3</td>\n",
       "      <td>1</td>\n",
       "      <td>0</td>\n",
       "    </tr>\n",
       "    <tr>\n",
       "      <th>3</th>\n",
       "      <td>33</td>\n",
       "      <td>22.705</td>\n",
       "      <td>0</td>\n",
       "      <td>1</td>\n",
       "      <td>0</td>\n",
       "    </tr>\n",
       "    <tr>\n",
       "      <th>4</th>\n",
       "      <td>32</td>\n",
       "      <td>28.880</td>\n",
       "      <td>0</td>\n",
       "      <td>1</td>\n",
       "      <td>0</td>\n",
       "    </tr>\n",
       "  </tbody>\n",
       "</table>\n",
       "</div>"
      ],
      "text/plain": [
       "   age     bmi  children  sex_male  smoker_yes\n",
       "0   19  27.900         0         0           1\n",
       "1   18  33.770         1         1           0\n",
       "2   28  33.000         3         1           0\n",
       "3   33  22.705         0         1           0\n",
       "4   32  28.880         0         1           0"
      ]
     },
     "execution_count": 7,
     "metadata": {},
     "output_type": "execute_result"
    }
   ],
   "source": [
    "x.head()"
   ]
  },
  {
   "cell_type": "code",
   "execution_count": 8,
   "id": "7d8ab4dd-0836-4fba-a1b9-25e9ad261a59",
   "metadata": {},
   "outputs": [],
   "source": [
    "y=dataset['charges']"
   ]
  },
  {
   "cell_type": "code",
   "execution_count": 9,
   "id": "f7404b35-09e4-4464-9311-22ee375cd658",
   "metadata": {},
   "outputs": [
    {
     "data": {
      "text/plain": [
       "0    16884.92400\n",
       "1     1725.55230\n",
       "2     4449.46200\n",
       "3    21984.47061\n",
       "4     3866.85520\n",
       "Name: charges, dtype: float64"
      ]
     },
     "execution_count": 9,
     "metadata": {},
     "output_type": "execute_result"
    }
   ],
   "source": [
    "y.head()"
   ]
  },
  {
   "cell_type": "code",
   "execution_count": 19,
   "id": "8cdc6e83-2007-414e-be68-0acfb6bd0add",
   "metadata": {},
   "outputs": [],
   "source": [
    "from sklearn.model_selection import train_test_split"
   ]
  },
  {
   "cell_type": "code",
   "execution_count": 21,
   "id": "674a6f11-c9f8-4d03-9a66-fac830cf16f9",
   "metadata": {},
   "outputs": [],
   "source": [
    "x_train,x_test,y_train,y_test=train_test_split(x,y,test_size=0.3,random_state=0)"
   ]
  },
  {
   "cell_type": "code",
   "execution_count": 69,
   "id": "f8f32df2-9be9-4ded-9455-f5ffd2c2dd25",
   "metadata": {},
   "outputs": [
    {
     "name": "stdout",
     "output_type": "stream",
     "text": [
      "Requirement already satisfied: lightgbm in c:\\anaconda3\\lib\\site-packages (4.6.0)\n",
      "Requirement already satisfied: numpy>=1.17.0 in c:\\anaconda3\\lib\\site-packages (from lightgbm) (1.26.4)\n",
      "Requirement already satisfied: scipy in c:\\anaconda3\\lib\\site-packages (from lightgbm) (1.13.1)\n",
      "Note: you may need to restart the kernel to use updated packages.\n"
     ]
    }
   ],
   "source": [
    "pip install --upgrade lightgbm"
   ]
  },
  {
   "cell_type": "code",
   "execution_count": 67,
   "id": "7b44a54f-cca4-4c0d-9d0d-ad4e455956fc",
   "metadata": {},
   "outputs": [
    {
     "name": "stdout",
     "output_type": "stream",
     "text": [
      "4.6.0\n"
     ]
    }
   ],
   "source": [
    "print(lgb.__version__)"
   ]
  },
  {
   "cell_type": "code",
   "execution_count": 93,
   "id": "73f53278-bb70-4948-886c-f46804fa40db",
   "metadata": {},
   "outputs": [
    {
     "name": "stdout",
     "output_type": "stream",
     "text": [
      "[LightGBM] [Info] Auto-choosing col-wise multi-threading, the overhead of testing was 0.001061 seconds.\n",
      "You can set `force_col_wise=true` to remove the overhead.\n",
      "[LightGBM] [Info] Total Bins 313\n",
      "[LightGBM] [Info] Number of data points in the train set: 936, number of used features: 5\n",
      "[LightGBM] [Info] Start training from score 13232.916456\n",
      "Training until validation scores don't improve for 100 rounds\n",
      "[10]\tvalid_0's rmse: 11541.9\tvalid_0's l2: 1.33216e+08\n",
      "[20]\tvalid_0's rmse: 10575.5\tvalid_0's l2: 1.11842e+08\n",
      "[30]\tvalid_0's rmse: 9718.89\tvalid_0's l2: 9.44568e+07\n",
      "[40]\tvalid_0's rmse: 8959.39\tvalid_0's l2: 8.02706e+07\n",
      "[50]\tvalid_0's rmse: 8287.9\tvalid_0's l2: 6.86893e+07\n",
      "[60]\tvalid_0's rmse: 7696.1\tvalid_0's l2: 5.923e+07\n",
      "[70]\tvalid_0's rmse: 7178.95\tvalid_0's l2: 5.15374e+07\n",
      "[80]\tvalid_0's rmse: 6731.32\tvalid_0's l2: 4.53107e+07\n",
      "[90]\tvalid_0's rmse: 6338.95\tvalid_0's l2: 4.01823e+07\n",
      "[100]\tvalid_0's rmse: 5998.55\tvalid_0's l2: 3.59826e+07\n",
      "[110]\tvalid_0's rmse: 5706.55\tvalid_0's l2: 3.25647e+07\n",
      "[120]\tvalid_0's rmse: 5458.8\tvalid_0's l2: 2.97985e+07\n",
      "[130]\tvalid_0's rmse: 5246.56\tvalid_0's l2: 2.75264e+07\n",
      "[140]\tvalid_0's rmse: 5071.48\tvalid_0's l2: 2.57199e+07\n",
      "[150]\tvalid_0's rmse: 4924.07\tvalid_0's l2: 2.42465e+07\n",
      "[160]\tvalid_0's rmse: 4805.17\tvalid_0's l2: 2.30897e+07\n",
      "[170]\tvalid_0's rmse: 4710\tvalid_0's l2: 2.21841e+07\n",
      "[180]\tvalid_0's rmse: 4631.73\tvalid_0's l2: 2.14529e+07\n",
      "[190]\tvalid_0's rmse: 4566.35\tvalid_0's l2: 2.08515e+07\n",
      "[200]\tvalid_0's rmse: 4513.1\tvalid_0's l2: 2.03681e+07\n",
      "[210]\tvalid_0's rmse: 4468.22\tvalid_0's l2: 1.9965e+07\n",
      "[220]\tvalid_0's rmse: 4433.75\tvalid_0's l2: 1.96582e+07\n",
      "[230]\tvalid_0's rmse: 4406.83\tvalid_0's l2: 1.94201e+07\n",
      "[240]\tvalid_0's rmse: 4384.4\tvalid_0's l2: 1.9223e+07\n",
      "[250]\tvalid_0's rmse: 4365.9\tvalid_0's l2: 1.90611e+07\n",
      "[260]\tvalid_0's rmse: 4353.81\tvalid_0's l2: 1.89557e+07\n",
      "[270]\tvalid_0's rmse: 4348.02\tvalid_0's l2: 1.89053e+07\n",
      "[280]\tvalid_0's rmse: 4341.45\tvalid_0's l2: 1.88482e+07\n",
      "[290]\tvalid_0's rmse: 4335.76\tvalid_0's l2: 1.87988e+07\n",
      "[300]\tvalid_0's rmse: 4333.06\tvalid_0's l2: 1.87754e+07\n",
      "[310]\tvalid_0's rmse: 4332.7\tvalid_0's l2: 1.87723e+07\n",
      "[320]\tvalid_0's rmse: 4338.33\tvalid_0's l2: 1.88211e+07\n",
      "[330]\tvalid_0's rmse: 4342.35\tvalid_0's l2: 1.8856e+07\n",
      "[340]\tvalid_0's rmse: 4346.89\tvalid_0's l2: 1.88954e+07\n",
      "[350]\tvalid_0's rmse: 4350.95\tvalid_0's l2: 1.89307e+07\n",
      "[360]\tvalid_0's rmse: 4354.25\tvalid_0's l2: 1.89595e+07\n",
      "[370]\tvalid_0's rmse: 4358.55\tvalid_0's l2: 1.8997e+07\n",
      "[380]\tvalid_0's rmse: 4363\tvalid_0's l2: 1.90358e+07\n",
      "[390]\tvalid_0's rmse: 4367.44\tvalid_0's l2: 1.90746e+07\n",
      "[400]\tvalid_0's rmse: 4371.5\tvalid_0's l2: 1.911e+07\n",
      "Early stopping, best iteration is:\n",
      "[308]\tvalid_0's rmse: 4332.16\tvalid_0's l2: 1.87676e+07\n"
     ]
    }
   ],
   "source": [
    "import lightgbm as lgb\n",
    "#model = lgb.LGBMRegressor()\n",
    "model = lgb.LGBMRegressor(\n",
    "    boosting_type='gbdt',\n",
    "    num_leaves=31,\n",
    "    max_depth=-1,\n",
    "    learning_rate=0.01,\n",
    "    n_estimators=1000,\n",
    "    subsample_for_bin=200000,\n",
    "    objective='regression',\n",
    "    min_split_gain=0,\n",
    "    min_child_weight=1e-3,\n",
    "    min_child_samples=20,\n",
    "    subsample=1.0,\n",
    "    subsample_freq=0,\n",
    "    colsample_bytree=1.0,\n",
    "    reg_alpha=0.0,\n",
    "    reg_lambda=0.0,\n",
    "    random_state=42,\n",
    "    n_jobs=-1\n",
    ")\n",
    "model.fit(\n",
    "    x_train,\n",
    "    y_train,\n",
    "    eval_set=[(x_test, y_test)],\n",
    "    eval_metric='rmse',\n",
    "    callbacks=[\n",
    "        lgb.early_stopping(stopping_rounds=100),\n",
    "        lgb.log_evaluation(period=10)\n",
    "    ]\n",
    ")\n",
    "y_pred = model.predict(x_test,num_iteration=model.best_iteration_)"
   ]
  },
  {
   "cell_type": "code",
   "execution_count": 94,
   "id": "101c9db0-959d-4474-b25e-522fa5643b08",
   "metadata": {},
   "outputs": [
    {
     "name": "stdout",
     "output_type": "stream",
     "text": [
      "RMSE: 4332.1611\n"
     ]
    },
    {
     "name": "stderr",
     "output_type": "stream",
     "text": [
      "C:\\Anaconda3\\Lib\\site-packages\\sklearn\\metrics\\_regression.py:492: FutureWarning: 'squared' is deprecated in version 1.4 and will be removed in 1.6. To calculate the root mean squared error, use the function'root_mean_squared_error'.\n",
      "  warnings.warn(\n"
     ]
    }
   ],
   "source": [
    "from sklearn.metrics import mean_squared_error\n",
    "# Evaluate the model\n",
    "rmse = mean_squared_error(y_test, y_pred, squared=False)\n",
    "print(f\"RMSE: {rmse:.4f}\")"
   ]
  },
  {
   "cell_type": "code",
   "execution_count": 95,
   "id": "0136283b-50f2-4a5f-a56b-f0e2ec351e39",
   "metadata": {},
   "outputs": [],
   "source": [
    "from sklearn.metrics import r2_score"
   ]
  },
  {
   "cell_type": "code",
   "execution_count": 99,
   "id": "af8c344c-e9f8-4c42-9a03-b01b8236131a",
   "metadata": {},
   "outputs": [],
   "source": [
    "r_score=r2_score(y_test,y_pred)"
   ]
  },
  {
   "cell_type": "code",
   "execution_count": 101,
   "id": "9178a720-b9ee-48c1-beca-551e28513bde",
   "metadata": {},
   "outputs": [
    {
     "data": {
      "text/plain": [
       "0.8823121401738534"
      ]
     },
     "execution_count": 101,
     "metadata": {},
     "output_type": "execute_result"
    }
   ],
   "source": [
    "r_score"
   ]
  },
  {
   "cell_type": "code",
   "execution_count": null,
   "id": "d280cc6f-b59f-4e3d-be98-2423efdf5ef0",
   "metadata": {},
   "outputs": [],
   "source": []
  }
 ],
 "metadata": {
  "kernelspec": {
   "display_name": "Python 3 (ipykernel)",
   "language": "python",
   "name": "python3"
  },
  "language_info": {
   "codemirror_mode": {
    "name": "ipython",
    "version": 3
   },
   "file_extension": ".py",
   "mimetype": "text/x-python",
   "name": "python",
   "nbconvert_exporter": "python",
   "pygments_lexer": "ipython3",
   "version": "3.12.7"
  }
 },
 "nbformat": 4,
 "nbformat_minor": 5
}
